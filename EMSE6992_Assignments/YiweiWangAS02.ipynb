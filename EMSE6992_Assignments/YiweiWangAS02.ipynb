{
 "cells": [
  {
   "cell_type": "code",
   "execution_count": 8,
   "metadata": {},
   "outputs": [
    {
     "name": "stderr",
     "output_type": "stream",
     "text": [
      "C:\\Users\\Administrator\\Anaconda3\\lib\\site-packages\\matplotlib\\__init__.py:913: UserWarning: axes.color_cycle is deprecated and replaced with axes.prop_cycle; please use the latter.\n",
      "  warnings.warn(self.msg_depr % (key, alt_key))\n"
     ]
    }
   ],
   "source": [
    "from collections import defaultdict\n",
    "import json\n",
    "\n",
    "import numpy as np\n",
    "import scipy as sp\n",
    "import matplotlib.pyplot as plt\n",
    "import pandas as pd\n",
    "\n",
    "from matplotlib import rcParams\n",
    "import matplotlib.cm as cm\n",
    "import matplotlib as mpl\n",
    "\n",
    "#colorbrewer2 Dark2 qualitative color table\n",
    "dark2_colors = [(0.10588235294117647, 0.6196078431372549, 0.4666666666666667),\n",
    "                (0.8509803921568627, 0.37254901960784315, 0.00784313725490196),\n",
    "                (0.4588235294117647, 0.4392156862745098, 0.7019607843137254),\n",
    "                (0.9058823529411765, 0.1607843137254902, 0.5411764705882353),\n",
    "                (0.4, 0.6509803921568628, 0.11764705882352941),\n",
    "                (0.9019607843137255, 0.6705882352941176, 0.00784313725490196),\n",
    "                (0.6509803921568628, 0.4627450980392157, 0.11372549019607843)]\n",
    "\n",
    "rcParams['figure.figsize'] = (10, 6)\n",
    "rcParams['figure.dpi'] = 150\n",
    "rcParams['axes.color_cycle'] = dark2_colors\n",
    "rcParams['lines.linewidth'] = 2\n",
    "rcParams['axes.facecolor'] = 'white'\n",
    "rcParams['font.size'] = 14\n",
    "rcParams['patch.edgecolor'] = 'white'\n",
    "rcParams['patch.facecolor'] = dark2_colors[0]\n",
    "rcParams['font.family'] = 'StixGeneral'\n",
    "\n",
    "\n",
    "def remove_border(axes=None, top=False, right=False, left=True, bottom=True):\n",
    "    \"\"\"\n",
    "    Minimize chartjunk by stripping out unnecesasry plot borders and axis ticks\n",
    "    \n",
    "    The top/right/left/bottom keywords toggle whether the corresponding plot border is drawn\n",
    "    \"\"\"\n",
    "    ax = axes or plt.gca()\n",
    "    ax.spines['top'].set_visible(top)\n",
    "    ax.spines['right'].set_visible(right)\n",
    "    ax.spines['left'].set_visible(left)\n",
    "    ax.spines['bottom'].set_visible(bottom)\n",
    "    \n",
    "    #turn off all ticks\n",
    "    ax.yaxis.set_ticks_position('none')\n",
    "    ax.xaxis.set_ticks_position('none')\n",
    "    \n",
    "    #now re-enable visibles\n",
    "    if top:\n",
    "        ax.xaxis.tick_top()\n",
    "    if bottom:\n",
    "        ax.xaxis.tick_bottom()\n",
    "    if left:\n",
    "        ax.yaxis.tick_left()\n",
    "    if right:\n",
    "        ax.yaxis.tick_right()\n",
    "        \n",
    "pd.set_option('display.width', 500)\n",
    "pd.set_option('display.max_columns', 100)"
   ]
  },
  {
   "cell_type": "code",
   "execution_count": 9,
   "metadata": {},
   "outputs": [
    {
     "name": "stdout",
     "output_type": "stream",
     "text": [
      "10\n",
      "10\n"
     ]
    }
   ],
   "source": [
    "import pandas as pd\n",
    "df=pd.read_csv(\"data/dataset.csv\")\n",
    "print(len(df.columns))\n",
    "print(len(df.index))"
   ]
  },
  {
   "cell_type": "code",
   "execution_count": 10,
   "metadata": {},
   "outputs": [
    {
     "name": "stdout",
     "output_type": "stream",
     "text": [
      "Index(['year', 'employment_ratio', 'household_expenditure', 'export_value_index', 'energy_use', 'net_portfolio_investment', 'import_value_index', 'population', 'GDP', 'SP500'], dtype='object')\n"
     ]
    }
   ],
   "source": [
    "print(df.columns)"
   ]
  },
  {
   "cell_type": "code",
   "execution_count": 11,
   "metadata": {},
   "outputs": [
    {
     "data": {
      "text/html": [
       "<div>\n",
       "<style>\n",
       "    .dataframe thead tr:only-child th {\n",
       "        text-align: right;\n",
       "    }\n",
       "\n",
       "    .dataframe thead th {\n",
       "        text-align: left;\n",
       "    }\n",
       "\n",
       "    .dataframe tbody tr th {\n",
       "        vertical-align: top;\n",
       "    }\n",
       "</style>\n",
       "<table border=\"1\" class=\"dataframe\">\n",
       "  <thead>\n",
       "    <tr style=\"text-align: right;\">\n",
       "      <th></th>\n",
       "      <th>year</th>\n",
       "      <th>employment_ratio</th>\n",
       "      <th>household_expenditure</th>\n",
       "      <th>export_value_index</th>\n",
       "      <th>energy_use</th>\n",
       "      <th>net_portfolio_investment</th>\n",
       "      <th>import_value_index</th>\n",
       "      <th>population</th>\n",
       "      <th>GDP</th>\n",
       "      <th>SP500</th>\n",
       "    </tr>\n",
       "  </thead>\n",
       "  <tbody>\n",
       "    <tr>\n",
       "      <th>0</th>\n",
       "      <td>2006</td>\n",
       "      <td>63.119999</td>\n",
       "      <td>9.980000e+12</td>\n",
       "      <td>131.211585</td>\n",
       "      <td>7697.652535</td>\n",
       "      <td>-6.330000e+11</td>\n",
       "      <td>152.312952</td>\n",
       "      <td>298379912</td>\n",
       "      <td>1.480000e+13</td>\n",
       "      <td>1318.309153</td>\n",
       "    </tr>\n",
       "    <tr>\n",
       "      <th>1</th>\n",
       "      <td>2007</td>\n",
       "      <td>62.990002</td>\n",
       "      <td>1.020000e+13</td>\n",
       "      <td>146.843915</td>\n",
       "      <td>7758.165986</td>\n",
       "      <td>-7.760000e+11</td>\n",
       "      <td>160.438577</td>\n",
       "      <td>301231207</td>\n",
       "      <td>1.510000e+13</td>\n",
       "      <td>1478.095825</td>\n",
       "    </tr>\n",
       "    <tr>\n",
       "      <th>2</th>\n",
       "      <td>2008</td>\n",
       "      <td>62.180000</td>\n",
       "      <td>1.020000e+13</td>\n",
       "      <td>164.651792</td>\n",
       "      <td>7488.081921</td>\n",
       "      <td>-8.080000e+11</td>\n",
       "      <td>172.277225</td>\n",
       "      <td>304093966</td>\n",
       "      <td>1.500000e+13</td>\n",
       "      <td>1215.221659</td>\n",
       "    </tr>\n",
       "    <tr>\n",
       "      <th>3</th>\n",
       "      <td>2009</td>\n",
       "      <td>59.320000</td>\n",
       "      <td>1.000000e+13</td>\n",
       "      <td>135.058024</td>\n",
       "      <td>7056.783653</td>\n",
       "      <td>1.853000e+10</td>\n",
       "      <td>127.475240</td>\n",
       "      <td>306771529</td>\n",
       "      <td>1.460000e+13</td>\n",
       "      <td>948.517492</td>\n",
       "    </tr>\n",
       "    <tr>\n",
       "      <th>4</th>\n",
       "      <td>2010</td>\n",
       "      <td>58.470001</td>\n",
       "      <td>1.020000e+13</td>\n",
       "      <td>163.507554</td>\n",
       "      <td>7160.939243</td>\n",
       "      <td>-6.210000e+11</td>\n",
       "      <td>156.371309</td>\n",
       "      <td>309348193</td>\n",
       "      <td>1.500000e+13</td>\n",
       "      <td>1130.681661</td>\n",
       "    </tr>\n",
       "  </tbody>\n",
       "</table>\n",
       "</div>"
      ],
      "text/plain": [
       "   year  employment_ratio  household_expenditure  export_value_index   energy_use  net_portfolio_investment  import_value_index  population           GDP        SP500\n",
       "0  2006         63.119999           9.980000e+12          131.211585  7697.652535             -6.330000e+11          152.312952   298379912  1.480000e+13  1318.309153\n",
       "1  2007         62.990002           1.020000e+13          146.843915  7758.165986             -7.760000e+11          160.438577   301231207  1.510000e+13  1478.095825\n",
       "2  2008         62.180000           1.020000e+13          164.651792  7488.081921             -8.080000e+11          172.277225   304093966  1.500000e+13  1215.221659\n",
       "3  2009         59.320000           1.000000e+13          135.058024  7056.783653              1.853000e+10          127.475240   306771529  1.460000e+13   948.517492\n",
       "4  2010         58.470001           1.020000e+13          163.507554  7160.939243             -6.210000e+11          156.371309   309348193  1.500000e+13  1130.681661"
      ]
     },
     "execution_count": 11,
     "metadata": {},
     "output_type": "execute_result"
    }
   ],
   "source": [
    "df.head()"
   ]
  },
  {
   "cell_type": "code",
   "execution_count": 12,
   "metadata": {},
   "outputs": [],
   "source": [
    "smaller_frame=df[['GDP', 'SP500', 'employment_ratio']]\n",
    "from pandas.plotting import scatter_matrix\n",
    "axeslist=scatter_matrix(smaller_frame, alpha=0.8, figsize=(12, 12), diagonal=\"kde\")\n",
    "for ax in axeslist.flatten():\n",
    "    ax.grid(False)"
   ]
  },
  {
   "cell_type": "code",
   "execution_count": 13,
   "metadata": {},
   "outputs": [
    {
     "data": {
      "text/html": [
       "<div>\n",
       "<style>\n",
       "    .dataframe thead tr:only-child th {\n",
       "        text-align: right;\n",
       "    }\n",
       "\n",
       "    .dataframe thead th {\n",
       "        text-align: left;\n",
       "    }\n",
       "\n",
       "    .dataframe tbody tr th {\n",
       "        vertical-align: top;\n",
       "    }\n",
       "</style>\n",
       "<table border=\"1\" class=\"dataframe\">\n",
       "  <thead>\n",
       "    <tr style=\"text-align: right;\">\n",
       "      <th></th>\n",
       "      <th>GDP</th>\n",
       "      <th>SP500</th>\n",
       "      <th>employment_ratio</th>\n",
       "    </tr>\n",
       "  </thead>\n",
       "  <tbody>\n",
       "    <tr>\n",
       "      <th>GDP</th>\n",
       "      <td>1.000000</td>\n",
       "      <td>0.948470</td>\n",
       "      <td>-0.395246</td>\n",
       "    </tr>\n",
       "    <tr>\n",
       "      <th>SP500</th>\n",
       "      <td>0.948470</td>\n",
       "      <td>1.000000</td>\n",
       "      <td>-0.132357</td>\n",
       "    </tr>\n",
       "    <tr>\n",
       "      <th>employment_ratio</th>\n",
       "      <td>-0.395246</td>\n",
       "      <td>-0.132357</td>\n",
       "      <td>1.000000</td>\n",
       "    </tr>\n",
       "  </tbody>\n",
       "</table>\n",
       "</div>"
      ],
      "text/plain": [
       "                       GDP     SP500  employment_ratio\n",
       "GDP               1.000000  0.948470         -0.395246\n",
       "SP500             0.948470  1.000000         -0.132357\n",
       "employment_ratio -0.395246 -0.132357          1.000000"
      ]
     },
     "execution_count": 13,
     "metadata": {},
     "output_type": "execute_result"
    }
   ],
   "source": [
    "smaller_frame.corr()"
   ]
  },
  {
   "cell_type": "code",
   "execution_count": 14,
   "metadata": {
    "collapsed": true
   },
   "outputs": [],
   "source": [
    "from sklearn.linear_model import LinearRegression\n",
    "X_HD=smaller_frame[['GDP', 'SP500']].values\n",
    "X_HDn=(X_HD - X_HD.mean(axis=0))/X_HD.std(axis=0)\n",
    "radius_std_vec=X_HDn[:,0]\n",
    "radius_std=radius_std_vec.reshape(-1,1)\n",
    "texture_std_vec=X_HDn[:,1]\n",
    "texture_std=texture_std_vec.reshape(-1,1)"
   ]
  },
  {
   "cell_type": "code",
   "execution_count": 15,
   "metadata": {
    "collapsed": true
   },
   "outputs": [],
   "source": [
    "from sklearn.model_selection import train_test_split\n",
    "X_train, X_test, y_train, y_test = train_test_split(radius_std, texture_std_vec)"
   ]
  },
  {
   "cell_type": "code",
   "execution_count": 16,
   "metadata": {},
   "outputs": [
    {
     "name": "stdout",
     "output_type": "stream",
     "text": [
      "[ 0.95576303] -0.0277235537664\n"
     ]
    }
   ],
   "source": [
    "clf1 = LinearRegression()\n",
    "clf1.fit(X_train, y_train)\n",
    "predicted_train = clf1.predict(X_train)\n",
    "predicted_test = clf1.predict(X_test)\n",
    "trains=X_train.reshape(1,-1).flatten()\n",
    "tests=X_test.reshape(1,-1).flatten()\n",
    "print (clf1.coef_, clf1.intercept_)"
   ]
  },
  {
   "cell_type": "code",
   "execution_count": 17,
   "metadata": {},
   "outputs": [
    {
     "ename": "NameError",
     "evalue": "name 'educ_coll_std_vec' is not defined",
     "output_type": "error",
     "traceback": [
      "\u001b[1;31m---------------------------------------------------------------------------\u001b[0m",
      "\u001b[1;31mNameError\u001b[0m                                 Traceback (most recent call last)",
      "\u001b[1;32m<ipython-input-17-cdd6d08c69da>\u001b[0m in \u001b[0;36m<module>\u001b[1;34m()\u001b[0m\n\u001b[1;32m----> 1\u001b[1;33m \u001b[0mplt\u001b[0m\u001b[1;33m.\u001b[0m\u001b[0mscatter\u001b[0m\u001b[1;33m(\u001b[0m\u001b[0meduc_coll_std_vec\u001b[0m\u001b[1;33m,\u001b[0m \u001b[0maverage_income_std_vec\u001b[0m\u001b[1;33m,\u001b[0m\u001b[0mc\u001b[0m\u001b[1;33m=\u001b[0m\u001b[1;34m'r'\u001b[0m\u001b[1;33m)\u001b[0m\u001b[1;33m\u001b[0m\u001b[0m\n\u001b[0m\u001b[0;32m      2\u001b[0m \u001b[0mplt\u001b[0m\u001b[1;33m.\u001b[0m\u001b[0mplot\u001b[0m\u001b[1;33m(\u001b[0m\u001b[0mtrains\u001b[0m\u001b[1;33m,\u001b[0m \u001b[0mpredicted_train\u001b[0m\u001b[1;33m,\u001b[0m \u001b[0mc\u001b[0m\u001b[1;33m=\u001b[0m\u001b[1;34m'g'\u001b[0m\u001b[1;33m,\u001b[0m \u001b[0malpha\u001b[0m\u001b[1;33m=\u001b[0m\u001b[1;36m0.5\u001b[0m\u001b[1;33m)\u001b[0m\u001b[1;33m\u001b[0m\u001b[0m\n\u001b[0;32m      3\u001b[0m \u001b[0mplt\u001b[0m\u001b[1;33m.\u001b[0m\u001b[0mplot\u001b[0m\u001b[1;33m(\u001b[0m\u001b[0mtests\u001b[0m\u001b[1;33m,\u001b[0m \u001b[0mpredicted_test\u001b[0m\u001b[1;33m,\u001b[0m \u001b[0mc\u001b[0m\u001b[1;33m=\u001b[0m\u001b[1;34m'g'\u001b[0m\u001b[1;33m,\u001b[0m \u001b[0malpha\u001b[0m\u001b[1;33m=\u001b[0m\u001b[1;36m0.2\u001b[0m\u001b[1;33m)\u001b[0m\u001b[1;33m\u001b[0m\u001b[0m\n",
      "\u001b[1;31mNameError\u001b[0m: name 'educ_coll_std_vec' is not defined"
     ]
    }
   ],
   "source": [
    "plt.scatter(educ_coll_std_vec, average_income_std_vec,c='r')\n",
    "plt.plot(trains, predicted_train, c='g', alpha=0.5)\n",
    "plt.plot(tests, predicted_test, c='g', alpha=0.2)"
   ]
  },
  {
   "cell_type": "code",
   "execution_count": null,
   "metadata": {
    "collapsed": true
   },
   "outputs": [],
   "source": []
  }
 ],
 "metadata": {
  "kernelspec": {
   "display_name": "Python 3",
   "language": "python",
   "name": "python3"
  },
  "language_info": {
   "codemirror_mode": {
    "name": "ipython",
    "version": 3
   },
   "file_extension": ".py",
   "mimetype": "text/x-python",
   "name": "python",
   "nbconvert_exporter": "python",
   "pygments_lexer": "ipython3",
   "version": "3.6.1"
  }
 },
 "nbformat": 4,
 "nbformat_minor": 2
}
