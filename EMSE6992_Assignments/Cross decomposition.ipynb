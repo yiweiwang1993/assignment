{
 "cells": [
  {
   "cell_type": "code",
   "execution_count": 1,
   "metadata": {
    "collapsed": true
   },
   "outputs": [],
   "source": [
    "import numpy as np\n",
    "import matplotlib.pyplot as plt\n",
    "import pandas as pd\n",
    "from sklearn.cross_decomposition import PLSCanonical, PLSRegression, CCA"
   ]
  },
  {
   "cell_type": "code",
   "execution_count": 2,
   "metadata": {},
   "outputs": [
    {
     "name": "stdout",
     "output_type": "stream",
     "text": [
      "Index(['year', 'employment_ratio', 'household_expenditure',\n",
      "       'export_value_index', 'energy_use', 'net_portfolio_investment',\n",
      "       'import_value_index', 'population', 'GDP', 'SP500'],\n",
      "      dtype='object')\n"
     ]
    }
   ],
   "source": [
    "df=pd.read_csv(\"data/dataset.csv\")\n",
    "print(df.columns)"
   ]
  },
  {
   "cell_type": "code",
   "execution_count": 3,
   "metadata": {},
   "outputs": [
    {
     "ename": "NameError",
     "evalue": "name 'n' is not defined",
     "output_type": "error",
     "traceback": [
      "\u001b[1;31m---------------------------------------------------------------------------\u001b[0m",
      "\u001b[1;31mNameError\u001b[0m                                 Traceback (most recent call last)",
      "\u001b[1;32m<ipython-input-3-4179bb012c1a>\u001b[0m in \u001b[0;36m<module>\u001b[1;34m()\u001b[0m\n\u001b[0;32m      3\u001b[0m \u001b[1;33m\u001b[0m\u001b[0m\n\u001b[0;32m      4\u001b[0m \u001b[0mlatents\u001b[0m \u001b[1;33m=\u001b[0m \u001b[0mnp\u001b[0m\u001b[1;33m.\u001b[0m\u001b[0marray\u001b[0m\u001b[1;33m(\u001b[0m\u001b[1;33m[\u001b[0m\u001b[0ml1\u001b[0m\u001b[1;33m,\u001b[0m \u001b[0ml1\u001b[0m\u001b[1;33m,\u001b[0m \u001b[0ml2\u001b[0m\u001b[1;33m,\u001b[0m \u001b[0ml2\u001b[0m\u001b[1;33m]\u001b[0m\u001b[1;33m)\u001b[0m\u001b[1;33m.\u001b[0m\u001b[0mT\u001b[0m\u001b[1;33m\u001b[0m\u001b[0m\n\u001b[1;32m----> 5\u001b[1;33m \u001b[0mX\u001b[0m \u001b[1;33m=\u001b[0m \u001b[0mlatents\u001b[0m \u001b[1;33m+\u001b[0m \u001b[0mnp\u001b[0m\u001b[1;33m.\u001b[0m\u001b[0mrandom\u001b[0m\u001b[1;33m.\u001b[0m\u001b[0mnormal\u001b[0m\u001b[1;33m(\u001b[0m\u001b[0msize\u001b[0m\u001b[1;33m=\u001b[0m\u001b[1;36m4\u001b[0m \u001b[1;33m*\u001b[0m \u001b[0mn\u001b[0m\u001b[1;33m)\u001b[0m\u001b[1;33m.\u001b[0m\u001b[0mreshape\u001b[0m\u001b[1;33m(\u001b[0m\u001b[1;33m(\u001b[0m\u001b[0mn\u001b[0m\u001b[1;33m,\u001b[0m \u001b[1;36m4\u001b[0m\u001b[1;33m)\u001b[0m\u001b[1;33m)\u001b[0m\u001b[1;33m\u001b[0m\u001b[0m\n\u001b[0m\u001b[0;32m      6\u001b[0m \u001b[0mY\u001b[0m \u001b[1;33m=\u001b[0m \u001b[0mlatents\u001b[0m \u001b[1;33m+\u001b[0m \u001b[0mnp\u001b[0m\u001b[1;33m.\u001b[0m\u001b[0mrandom\u001b[0m\u001b[1;33m.\u001b[0m\u001b[0mnormal\u001b[0m\u001b[1;33m(\u001b[0m\u001b[0msize\u001b[0m\u001b[1;33m=\u001b[0m\u001b[1;36m4\u001b[0m \u001b[1;33m*\u001b[0m \u001b[0mn\u001b[0m\u001b[1;33m)\u001b[0m\u001b[1;33m.\u001b[0m\u001b[0mreshape\u001b[0m\u001b[1;33m(\u001b[0m\u001b[1;33m(\u001b[0m\u001b[0mn\u001b[0m\u001b[1;33m,\u001b[0m \u001b[1;36m4\u001b[0m\u001b[1;33m)\u001b[0m\u001b[1;33m)\u001b[0m\u001b[1;33m\u001b[0m\u001b[0m\n\u001b[0;32m      7\u001b[0m \u001b[1;33m\u001b[0m\u001b[0m\n",
      "\u001b[1;31mNameError\u001b[0m: name 'n' is not defined"
     ]
    }
   ],
   "source": [
    "n = 500\n",
    "\n",
    "l1 = np.random.normal(size=n)\n",
    "l2 = np.random.normal(size=n)\n",
    "\n",
    "latents = np.array([l1, l1, l2, l2]).T\n",
    "X = latents + np.random.normal(size=4 * n).reshape((n, 4))\n",
    "Y = latents + np.random.normal(size=4 * n).reshape((n, 4))\n",
    "\n",
    "X_train = X[:n // 2]\n",
    "Y_train = Y[:n // 2]\n",
    "X_test = X[n // 2:]\n",
    "Y_test = Y[n // 2:]\n",
    "\n",
    "print(\"Corr(X)\")\n",
    "print(np.round(np.corrcoef(X.T), 2))\n",
    "print(\"Corr(Y)\")\n",
    "print(np.round(np.corrcoef(Y.T), 2))"
   ]
  },
  {
   "cell_type": "code",
   "execution_count": null,
   "metadata": {
    "collapsed": true
   },
   "outputs": [],
   "source": [
    "plsca = PLSCanonical(n_components=2)\n",
    "plsca.fit(X_train, Y_train)\n",
    "X_train_r, Y_train_r = plsca.transform(X_train, Y_train)\n",
    "X_test_r, Y_test_r = plsca.transform(X_test, Y_test)\n",
    "\n",
    "# Scatter plot of scores\n",
    "# ~~~~~~~~~~~~~~~~~~~~~~\n",
    "# 1) On diagonal plot X vs Y scores on each components\n",
    "plt.figure(figsize=(12, 8))\n",
    "plt.subplot(221)\n",
    "plt.scatter(X_train_r[:, 0], Y_train_r[:, 0], label=\"train\",\n",
    "            marker=\"o\", c=\"b\", s=25)\n",
    "plt.scatter(X_test_r[:, 0], Y_test_r[:, 0], label=\"test\",\n",
    "            marker=\"o\", c=\"r\", s=25)\n",
    "plt.xlabel(\"x scores\")\n",
    "plt.ylabel(\"y scores\")\n",
    "plt.title('Comp. 1: X vs Y (test corr = %.2f)' %\n",
    "          np.corrcoef(X_test_r[:, 0], Y_test_r[:, 0])[0, 1])\n",
    "plt.xticks(())\n",
    "plt.yticks(())\n",
    "plt.legend(loc=\"best\")\n",
    "\n",
    "plt.subplot(224)\n",
    "plt.scatter(X_train_r[:, 1], Y_train_r[:, 1], label=\"train\",\n",
    "            marker=\"o\", c=\"b\", s=25)\n",
    "plt.scatter(X_test_r[:, 1], Y_test_r[:, 1], label=\"test\",\n",
    "            marker=\"o\", c=\"r\", s=25)\n",
    "plt.xlabel(\"x scores\")\n",
    "plt.ylabel(\"y scores\")\n",
    "plt.title('Comp. 2: X vs Y (test corr = %.2f)' %\n",
    "          np.corrcoef(X_test_r[:, 1], Y_test_r[:, 1])[0, 1])\n",
    "plt.xticks(())\n",
    "plt.yticks(())\n",
    "plt.legend(loc=\"best\")\n",
    "\n",
    "# 2) Off diagonal plot components 1 vs 2 for X and Y\n",
    "plt.subplot(222)\n",
    "plt.scatter(X_train_r[:, 0], X_train_r[:, 1], label=\"train\",\n",
    "            marker=\"*\", c=\"b\", s=50)\n",
    "plt.scatter(X_test_r[:, 0], X_test_r[:, 1], label=\"test\",\n",
    "            marker=\"*\", c=\"r\", s=50)\n",
    "plt.xlabel(\"X comp. 1\")\n",
    "plt.ylabel(\"X comp. 2\")\n",
    "plt.title('X comp. 1 vs X comp. 2 (test corr = %.2f)'\n",
    "          % np.corrcoef(X_test_r[:, 0], X_test_r[:, 1])[0, 1])\n",
    "plt.legend(loc=\"best\")\n",
    "plt.xticks(())\n",
    "plt.yticks(())\n",
    "\n",
    "plt.subplot(223)\n",
    "plt.scatter(Y_train_r[:, 0], Y_train_r[:, 1], label=\"train\",\n",
    "            marker=\"*\", c=\"b\", s=50)\n",
    "plt.scatter(Y_test_r[:, 0], Y_test_r[:, 1], label=\"test\",\n",
    "            marker=\"*\", c=\"r\", s=50)\n",
    "plt.xlabel(\"Y comp. 1\")\n",
    "plt.ylabel(\"Y comp. 2\")\n",
    "plt.title('Y comp. 1 vs Y comp. 2 , (test corr = %.2f)'\n",
    "          % np.corrcoef(Y_test_r[:, 0], Y_test_r[:, 1])[0, 1])\n",
    "plt.legend(loc=\"best\")\n",
    "plt.xticks(())\n",
    "plt.yticks(())\n",
    "plt.show()"
   ]
  },
  {
   "cell_type": "code",
   "execution_count": null,
   "metadata": {
    "collapsed": true
   },
   "outputs": [],
   "source": [
    "n = 1000\n",
    "q = 3\n",
    "p = 10\n",
    "X = np.random.normal(size=n * p).reshape((n, p))\n",
    "B = np.array([[1, 2] + [0] * (p - 2)] * q).T\n",
    "# each Yj = 1*X1 + 2*X2 + noize\n",
    "Y = np.dot(X, B) + np.random.normal(size=n * q).reshape((n, q)) + 5\n",
    "\n",
    "pls2 = PLSRegression(n_components=3)\n",
    "pls2.fit(X, Y)\n",
    "print(\"True B (such that: Y = XB + Err)\")\n",
    "print(B)\n",
    "# compare pls2.coef_ with B\n",
    "print(\"Estimated B\")\n",
    "print(np.round(pls2.coef_, 1))\n",
    "pls2.predict(X)\n",
    "\n",
    "# PLS regression, with univariate response, a.k.a. PLS1\n",
    "\n",
    "n = 1000\n",
    "p = 10\n",
    "X = np.random.normal(size=n * p).reshape((n, p))\n",
    "y = X[:, 0] + 2 * X[:, 1] + np.random.normal(size=n * 1) + 5\n",
    "pls1 = PLSRegression(n_components=3)\n",
    "pls1.fit(X, y)\n",
    "# note that the number of components exceeds 1 (the dimension of y)\n",
    "print(\"Estimated betas\")\n",
    "print(np.round(pls1.coef_, 1))\n",
    "\n",
    "# #############################################################################\n",
    "# CCA (PLS mode B with symmetric deflation)\n",
    "\n",
    "cca = CCA(n_components=2)\n",
    "cca.fit(X_train, Y_train)\n",
    "X_train_r, Y_train_r = cca.transform(X_train, Y_train)\n",
    "X_test_r, Y_test_r = cca.transform(X_test, Y_test)"
   ]
  }
 ],
 "metadata": {
  "kernelspec": {
   "display_name": "Python 3",
   "language": "python",
   "name": "python3"
  },
  "language_info": {
   "codemirror_mode": {
    "name": "ipython",
    "version": 3
   },
   "file_extension": ".py",
   "mimetype": "text/x-python",
   "name": "python",
   "nbconvert_exporter": "python",
   "pygments_lexer": "ipython3",
   "version": "3.6.1"
  }
 },
 "nbformat": 4,
 "nbformat_minor": 2
}
